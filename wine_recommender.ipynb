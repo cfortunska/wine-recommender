{
 "cells": [
  {
   "cell_type": "code",
   "execution_count": 38,
   "id": "a3c849a8-d577-4246-ba42-3423295e9457",
   "metadata": {},
   "outputs": [],
   "source": [
    "#imports, uploads, inspection of data\n",
    "import pandas as pd\n",
    "import numpy as np\n",
    "pd.set_option(\"display.max_rows\", None, \"display.max_columns\", None)\n",
    "np.random.seed(5)\n",
    "file=r'/Users/cecylia/Desktop/Notes/winedata.csv'\n",
    "df=pd.read_csv(file)\n",
    "#this is a large dataset-lets take a smaller sample and drop anything with a null country, price, province\n",
    "df=df.dropna(subset=['country', 'price', 'province', 'variety'])\n",
    "#drop duplicates\n",
    "df.drop_duplicates(subset=['title'], inplace=True)\n",
    "#this is still a rather large dataset so lets take a  random sample of 40000\n",
    "df1 = df.sample(n=40000)\n",
    "df1.reset_index(inplace=True)\n",
    "from sklearn.feature_extraction.text import TfidfVectorizer\n",
    "from sklearn.metrics.pairwise import linear_kernel\n",
    "from sklearn.metrics.pairwise import cosine_similarity\n",
    "#lets start building a simple recommender - skip from here\n",
    "tfidf = TfidfVectorizer(stop_words='english')\n",
    "tfidf_matrix = tfidf.fit_transform(df1['description'])"
   ]
  },
  {
   "cell_type": "code",
   "execution_count": 39,
   "id": "fb6b71bf-d40b-416f-931c-f0e00b0129d1",
   "metadata": {},
   "outputs": [],
   "source": [
    "cosine_sim_matrix = linear_kernel(tfidf_matrix)"
   ]
  },
  {
   "cell_type": "code",
   "execution_count": 40,
   "id": "e3e6e160-7c9c-4c73-9f86-5539c6dd1325",
   "metadata": {},
   "outputs": [],
   "source": [
    "from rapidfuzz import process  # Faster fuzzy matching\n",
    "import time\n",
    "import ipywidgets as widgets"
   ]
  },
  {
   "cell_type": "code",
   "execution_count": 41,
   "id": "65f3f858-af3a-4480-9c31-eadf26ab787f",
   "metadata": {},
   "outputs": [],
   "source": [
    "indices = pd.Series(df1.index, index=df1['title']).drop_duplicates()"
   ]
  },
  {
   "cell_type": "code",
   "execution_count": 88,
   "id": "e15bc3c5-193a-4659-a0c8-6f1fce11f4c5",
   "metadata": {},
   "outputs": [],
   "source": [
    "pd.set_option('display.max_colwidth', None)  # Ensure full-length text"
   ]
  },
  {
   "cell_type": "code",
   "execution_count": 117,
   "id": "875f4fee-c432-40f5-a64a-904d1d2a50af",
   "metadata": {},
   "outputs": [],
   "source": [
    "# Function that takes in wine title as input and outputs most similar titles - old one\n",
    "def recommend(title, cosine_sim_matrix=cosine_sim_matrix):\n",
    "    # Get the index of the wine that matches the title\n",
    "    idx = indices[title]\n",
    "\n",
    "    # Get the pairwsie similarity scores of all wine with that wine\n",
    "    sim_scores = list(enumerate(cosine_sim_matrix[idx]))\n",
    "\n",
    "    # Sort the wines based on the similarity scores\n",
    "    sim_scores = sorted(sim_scores, key=lambda x: x[1], reverse=True)\n",
    "\n",
    "    # Get the scores of the 10 most similar wines\n",
    "    sim_scores = sim_scores[1:11]\n",
    "\n",
    "    # Get the wines indices\n",
    "    wine_indices = [i[0] for i in sim_scores]\n",
    "\n",
    "    # Return the top 10 most similar wines\n",
    "    return df1['title'].iloc[wine_indices]"
   ]
  },
  {
   "cell_type": "code",
   "execution_count": 118,
   "id": "0a3d5cba-4825-4f93-ad32-f76eba2b449c",
   "metadata": {},
   "outputs": [],
   "source": [
    "# Search function using fuzzy matching\n",
    "def search_item(user_input, choices, threshold=80):\n",
    "    \"\"\"Find the closest match to user input using fuzzy matching.\"\"\"\n",
    "    best_match = process.extractOne(user_input, choices)\n",
    "    return best_match[0] if best_match and best_match[1] >= threshold else None"
   ]
  },
  {
   "cell_type": "code",
   "execution_count": 119,
   "id": "ae41592e-d67b-4e7c-8767-7a6063cd52e5",
   "metadata": {},
   "outputs": [],
   "source": [
    "# Interactive dropdown with fuzzy search\n",
    "dropdown = widgets.Combobox(\n",
    "    placeholder=\"Type to search...\",\n",
    "    options=df[\"title\"].tolist(),  # Pre-fill with known items\n",
    "    ensure_option=False,  # Allow users to type custom queries\n",
    ")"
   ]
  },
  {
   "cell_type": "code",
   "execution_count": 120,
   "id": "3768f82a-d88f-46aa-99e5-3b31cb533921",
   "metadata": {},
   "outputs": [],
   "source": [
    "# Output area\n",
    "output = widgets.Output()"
   ]
  },
  {
   "cell_type": "code",
   "execution_count": 122,
   "id": "7b5839d4-8eab-4d5d-b2b2-1738eaa32069",
   "metadata": {},
   "outputs": [
    {
     "name": "stderr",
     "output_type": "stream",
     "text": [
      "/var/folders/11/7dw54ln10md9k5cbk_wjyfy80000gn/T/ipykernel_21148/1671683592.py:1: DeprecationWarning: Importing display from IPython.core.display is deprecated since IPython 7.14, please import from IPython display\n",
      "  from IPython.core.display import display, HTML\n"
     ]
    }
   ],
   "source": [
    "from IPython.core.display import display, HTML\n",
    "import ipywidgets as widgets\n",
    "\n",
    "output = widgets.Output()\n",
    "\n",
    "def on_value_change(change):\n",
    "    with output:\n",
    "        output.clear_output()\n",
    "        user_input = change['new']\n",
    "        matched_item = search_item(user_input, df1[\"title\"].tolist()) if user_input else None\n",
    "        \n",
    "        if matched_item:\n",
    "            print(f\"Showing results for: {matched_item}\")\n",
    "\n",
    "            recommendations = recommend(matched_item)  # Assuming this returns wine titles\n",
    "            \n",
    "            # Retrieve price and country for each recommended wine\n",
    "            recommendation_details = df1[df1[\"title\"].isin(recommendations)][[\"title\", \"price\", \"country\", \"points\", \"province\", \"variety\"]]\n",
    "\n",
    "            # Generate HTML with tooltips\n",
    "            wine_html = \"<ul>\"\n",
    "            for _, row in recommendation_details.iterrows():\n",
    "                tooltip_text = f\"Price: ${row['price']}, Country: {row['country']}, Points: {row['points']}, Province: {row['province']}, Variety: {row['variety']}\"\n",
    "                wine_html += f'<li><span title=\"{tooltip_text}\">{row[\"title\"]}</span></li>'\n",
    "            wine_html += \"</ul>\"\n",
    "\n",
    "            display(HTML(wine_html))  # Display recommendations with tooltips\n",
    "        else:\n",
    "            print(\"No close match found. Try another search.\")"
   ]
  },
  {
   "cell_type": "code",
   "execution_count": 123,
   "id": "a0121170-eb73-4cad-aa55-889a09aadaf1",
   "metadata": {},
   "outputs": [
    {
     "data": {
      "application/vnd.jupyter.widget-view+json": {
       "model_id": "d4737d5d134243e3a54f769172e0fbe7",
       "version_major": 2,
       "version_minor": 0
      },
      "text/plain": [
       "Combobox(value='', options=('Quinta dos Avidagos 2011 Avidagos Red (Douro)', 'Rainstorm 2013 Pinot Gris (Willa…"
      ]
     },
     "metadata": {},
     "output_type": "display_data"
    },
    {
     "data": {
      "application/vnd.jupyter.widget-view+json": {
       "model_id": "bdc5c255bbb94aa3a14bb06246ad1ed9",
       "version_major": 2,
       "version_minor": 0
      },
      "text/plain": [
       "Output()"
      ]
     },
     "metadata": {},
     "output_type": "display_data"
    }
   ],
   "source": [
    "# Attach event listener\n",
    "dropdown.observe(on_value_change, names='value')\n",
    "\n",
    "# Display widgets\n",
    "display(dropdown, output)"
   ]
  },
  {
   "cell_type": "code",
   "execution_count": null,
   "id": "9ed87f31-3989-4498-9f1b-d6ba57d17ad1",
   "metadata": {},
   "outputs": [],
   "source": []
  }
 ],
 "metadata": {
  "kernelspec": {
   "display_name": "Python 3 (ipykernel)",
   "language": "python",
   "name": "python3"
  },
  "language_info": {
   "codemirror_mode": {
    "name": "ipython",
    "version": 3
   },
   "file_extension": ".py",
   "mimetype": "text/x-python",
   "name": "python",
   "nbconvert_exporter": "python",
   "pygments_lexer": "ipython3",
   "version": "3.9.12"
  }
 },
 "nbformat": 4,
 "nbformat_minor": 5
}
